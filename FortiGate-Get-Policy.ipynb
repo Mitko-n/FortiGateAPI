{
 "cells": [
  {
   "cell_type": "code",
   "execution_count": 2,
   "metadata": {},
   "outputs": [],
   "source": [
    "# Initialization\n",
    "from FortigateAPI import FGT\n",
    "import json"
   ]
  },
  {
   "cell_type": "code",
   "execution_count": null,
   "metadata": {},
   "outputs": [],
   "source": [
    "# Log In/Log Out\n",
    "fgt = FGT(host=\"172.16.17.200\")\n",
    "fgt.login(name=\"admin\", key=\"1234\")\n",
    "\n",
    "url = \"/api/v2/cmdb/firewall/policy\"\n",
    "\n",
    "params = {\"vdom\": \"Policy\"}\n",
    "response = fgt.get(url, params=params)\n",
    "\n",
    "print(json.dumps(response[\"data\"], indent=4))\n",
    "\n",
    "fgt.logout()"
   ]
  },
  {
   "cell_type": "code",
   "execution_count": null,
   "metadata": {},
   "outputs": [],
   "source": [
    "# Content manager and log In\n",
    "with FGT(host=\"172.16.17.200\") as fgt:\n",
    "    fgt.login(name=\"admin\", key=\"1234\")\n",
    "    url = \"/api/v2/cmdb/firewall/policy\"\n",
    "    params = {}\n",
    "    response = fgt.get(url, params=params)\n",
    "    print(json.dumps(response[\"data\"], indent=4))"
   ]
  },
  {
   "cell_type": "code",
   "execution_count": null,
   "metadata": {},
   "outputs": [],
   "source": [
    "with FGT(host=\"172.16.17.200\", name=\"admin\", key=\"1234\") as fgt:\n",
    "    url = \"/api/v2/cmdb/firewall/policy\"\n",
    "    params = {}\n",
    "    response = fgt.get(url, params=params)\n",
    "    print(json.dumps(response[\"data\"], indent=4))"
   ]
  },
  {
   "cell_type": "code",
   "execution_count": null,
   "metadata": {},
   "outputs": [],
   "source": [
    "list_of_keys = [\"name\", \"policyid\", \"srcintf\", \"srcaddr\", \"dstintf\", \"dstaddr\", \"service\"]\n",
    "list_of_dict = response[\"data\"][\"results\"]\n",
    "\n",
    "[{key: dict[key] for key in list_of_keys if key in dict} for dict in list_of_dict]"
   ]
  },
  {
   "cell_type": "raw",
   "metadata": {
    "vscode": {
     "languageId": "raw"
    }
   },
   "source": [
    "Explanation:\n",
    "List Comprehension: The list comprehension [{key: dictionary[key] for key in keys if key in dictionary} for dictionary in dictionaries]\n",
    "is used to iterate over each dictionary in dictionaries and create a new dictionary containing only the key-value pairs where the key is in keys.\n",
    "\n",
    "Dictionary Comprehension: Within the list comprehension, a dictionary comprehension {key: dictionary[key] for key in keys if key in dictionary}\n",
    "is used to filter the key-value pairs in each dictionary."
   ]
  }
 ],
 "metadata": {
  "kernelspec": {
   "display_name": "Python 3",
   "language": "python",
   "name": "python3"
  },
  "language_info": {
   "codemirror_mode": {
    "name": "ipython",
    "version": 3
   },
   "file_extension": ".py",
   "mimetype": "text/x-python",
   "name": "python",
   "nbconvert_exporter": "python",
   "pygments_lexer": "ipython3",
   "version": "3.12.6"
  }
 },
 "nbformat": 4,
 "nbformat_minor": 2
}
