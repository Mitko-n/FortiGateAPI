{
 "cells": [
  {
   "cell_type": "code",
   "execution_count": 9,
   "metadata": {},
   "outputs": [],
   "source": [
    "import json\n",
    "\n",
    "client_info_path = \".\\\\Credentials\\\\fgt_credentials.json\"\n",
    "client_info = json.load(open(client_info_path))\n",
    "host = client_info[\"host\"]\n",
    "name = client_info[\"name\"]\n",
    "key = client_info[\"key\"]\n",
    "token = client_info[\"token\"]"
   ]
  },
  {
   "cell_type": "code",
   "execution_count": 10,
   "metadata": {},
   "outputs": [],
   "source": [
    "from FortigateAPI import FGT\n",
    "\n",
    "# Initialize with just the host\n",
    "fgt = FGT(host=host)\n",
    "# Login after initialization\n",
    "fgt.login(key=key)  # default name=name\n",
    "fgt.login(name=name, key=key)\n",
    "\n",
    "\n",
    "# Initialize with host and login credentials\n",
    "fgt = FGT(host=host, key=key)  # default name=name\n",
    "fgt = FGT(host=host, name=name, key=key)\n",
    "\n",
    "\n",
    "# Initialize with host and token\n",
    "fgt = FGT(host=host, token=token)"
   ]
  },
  {
   "cell_type": "code",
   "execution_count": null,
   "metadata": {},
   "outputs": [],
   "source": [
    "from pprint import pprint\n",
    "from FortigateAPI import FGT\n",
    "\n",
    "# Initialization\n",
    "fgt = FGT(host=host)\n",
    "fgt.login(key=key)  # default name=name\n",
    "\n",
    "url = \"/api/v2/cmdb/firewall/address\"\n",
    "# params = {\"vdom\": \"Policy\"}\n",
    "params = {}\n",
    "\n",
    "response = fgt.get(url, params=params)\n",
    "\n",
    "pprint(response)\n",
    "\n",
    "# Logout\n",
    "fgt.logout()"
   ]
  },
  {
   "cell_type": "code",
   "execution_count": null,
   "metadata": {},
   "outputs": [],
   "source": [
    "from FortigateAPI import FGT\n",
    "\n",
    "list_of_response = []\n",
    "\n",
    "fgt = FGT(host=host, token=token)\n",
    "url = \"/api/v2/cmdb/firewall/address\"\n",
    "params = {\n",
    "    \"count\": 2000,  # Maximum number of returned records\n",
    "    \"start\": 0,\n",
    "    \"vdom\": \"root\",\n",
    "    # \"access_token\": fw_access_token,\n",
    "}\n",
    "\n",
    "while True:\n",
    "    response = fgt.get(url, params=params)\n",
    "\n",
    "    if response[\"data\"][\"results\"]:\n",
    "        list_of_response.extend(response[\"data\"][\"results\"])\n",
    "        params[\"start\"] = params[\"start\"] + params[\"count\"]\n",
    "    else:\n",
    "\n",
    "        break\n",
    "\n",
    "for item in list_of_response:\n",
    "    print(f\"{item[\"name\"]:35} :: {item[\"type\"]}\")"
   ]
  },
  {
   "cell_type": "code",
   "execution_count": null,
   "metadata": {},
   "outputs": [],
   "source": [
    "response = fgt.get(\"/api/v2/cmdb/firewall/addrgrp\", params={\"vdom\": \"root\"})\n",
    "# pprint(response.json())\n",
    "#\n",
    "for item in response[\"data\"][\"results\"]:\n",
    "    print(f\"{item[\"name\"]:20} -> {item[\"member\"]}\")"
   ]
  },
  {
   "cell_type": "code",
   "execution_count": 26,
   "metadata": {},
   "outputs": [],
   "source": [
    "fgt.logout()"
   ]
  },
  {
   "cell_type": "code",
   "execution_count": null,
   "metadata": {},
   "outputs": [],
   "source": [
    "# Using content manager\n",
    "#\n",
    "from FortigateAPI import FGT\n",
    "\n",
    "with FGT(host=host,token=token) as fgt:\n",
    "    response = fgt.get(\"/api/v2/cmdb/firewall/addrgrp\", params={\"vdom\": \"root\"})\n",
    "    # pprint(response.json())\n",
    "    for item in response[\"data\"][\"results\"]:\n",
    "        print(f\"{item[\"name\"]:20} ->  {item[\"member\"]}\")"
   ]
  },
  {
   "cell_type": "code",
   "execution_count": null,
   "metadata": {},
   "outputs": [],
   "source": [
    "# Using content manager\n",
    "#\n",
    "from FortigateAPI import FGT\n",
    "\n",
    "with FGT(host=host,token=token) as fgt:\n",
    "    response = fgt.get(\"/api/v2/cmdb/firewall/addrgrp\", params={\"vdom\": \"root\"})\n",
    "    for item in response[\"data\"][\"results\"]:\n",
    "        print(f\"{item[\"name\"]:20} ->  {item[\"member\"]}\")"
   ]
  },
  {
   "cell_type": "code",
   "execution_count": null,
   "metadata": {},
   "outputs": [],
   "source": [
    "from FortigateAPI import FGT\n",
    "import json\n",
    "\n",
    "with FGT(host=host,token=token) as fgt:\n",
    "    # Send a GET request to fetch some configuration data\n",
    "    response = fgt.get(\"/api/v2/cmdb/firewall/address\")\n",
    "\n",
    "    # Handle the response\n",
    "    if response[\"status\"] == \"success\":\n",
    "        print(\"GET request successful.\\n Data:\", json.dumps(response[\"data\"],indent=4))\n",
    "        for item in response[\"data\"][\"results\"]:\n",
    "             print(f\"{item[\"name\"]:35} :: {item[\"type\"]}\")\n",
    "    else:\n",
    "        print(\"GET request failed:\", response[\"message\"], \"Error details:\", response[\"data\"])"
   ]
  },
  {
   "cell_type": "code",
   "execution_count": null,
   "metadata": {},
   "outputs": [],
   "source": [
    "from FortigateAPI import FGT\n",
    "import json\n",
    "\n",
    "with FGT(host=host, token=token) as fgt:\n",
    "    post_data = {\n",
    "        \"name\": \"example-address\",\n",
    "        \"subnet\": \"192.168.1.0 255.255.255.0\",\n",
    "        \"type\": \"ipmask\",\n",
    "    }\n",
    "    post_response = fgt.post(\"/api/v2/cmdb/firewall/address\", data=post_data)\n",
    "\n",
    "    # Handle the response\n",
    "    if post_response[\"status\"] == \"success\":\n",
    "        print(\"POST request successful.\\nData:\", post_response[\"data\"])\n",
    "    else:\n",
    "        print(\"POST request failed:\", post_response[\"message\"], \"Error details:\", post_response[\"data\"])"
   ]
  },
  {
   "cell_type": "code",
   "execution_count": null,
   "metadata": {},
   "outputs": [],
   "source": [
    "with FGT(host=host, token=token) as fgt:\n",
    "    # Send a DELETE request to remove a firewall address object\n",
    "    delete_response = fgt.delete(\"/api/v2/cmdb/firewall/address/example-address\")\n",
    "\n",
    "    # Handle the response\n",
    "    if delete_response[\"status\"] == \"success\":\n",
    "        print(\"DELETE request successful.\")\n",
    "    else:\n",
    "        print(\"DELETE request failed:\", delete_response[\"message\"], \"Error details:\", delete_response[\"data\"])"
   ]
  }
 ],
 "metadata": {
  "kernelspec": {
   "display_name": "Python 3",
   "language": "python",
   "name": "python3"
  },
  "language_info": {
   "codemirror_mode": {
    "name": "ipython",
    "version": 3
   },
   "file_extension": ".py",
   "mimetype": "text/x-python",
   "name": "python",
   "nbconvert_exporter": "python",
   "pygments_lexer": "ipython3",
   "version": "3.12.6"
  }
 },
 "nbformat": 4,
 "nbformat_minor": 2
}
